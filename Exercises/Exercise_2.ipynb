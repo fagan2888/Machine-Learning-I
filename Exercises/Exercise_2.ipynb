{
 "cells": [
  {
   "cell_type": "markdown",
   "metadata": {
    "collapsed": true
   },
   "source": [
    "<h1 align=\"center\"> \n",
    "DATS 6202, Fall 2018, Exercise_2\n",
    "</h1> \n",
    "\n",
    "<h4 align=\"center\"> \n",
    "Author: Yuxiao Huang ([yuxiaohuang@gwu.edu](mailto:yuxiaohuang@gwu.edu))\n",
    "</h4>"
   ]
  },
  {
   "cell_type": "markdown",
   "metadata": {},
   "source": [
    "## Note\n",
    "- Complete the missing parts indicated by # Implement me\n",
    "- We expect you to follow a reasonable programming style. While we do not mandate a specific style, we require that your code to be neat, clear, **documented/commented** and above all consistent. **Marks will be deducted if these are not followed.**"
   ]
  },
  {
   "cell_type": "markdown",
   "metadata": {},
   "source": [
    "## Overview\n",
    "- Implement a linear regression model (using list and numpy array) and evaluate it on the Housing dataset"
   ]
  },
  {
   "cell_type": "markdown",
   "metadata": {},
   "source": [
    "### My linear regression model"
   ]
  },
  {
   "cell_type": "code",
   "execution_count": 1,
   "metadata": {
    "collapsed": true
   },
   "outputs": [],
   "source": [
    "import numpy as np\n",
    "\n",
    "class MyLinearRegression():\n",
    "    \"\"\"The linear regression model\"\"\"\n",
    "    \n",
    "    def __init__(self, eta=0.0001, n_iter=100):\n",
    "        # Initialize the learning rate\n",
    "        self.eta = eta\n",
    "        # Initialize the number of iterations\n",
    "        self.n_iter = n_iter\n",
    "        \n",
    "    def fit(self, X, y):\n",
    "        \"\"\"\n",
    "        The fit function\n",
    "        \n",
    "        Parameters\n",
    "        ----------\n",
    "        X : the feature vector\n",
    "        y : the target vector\n",
    "        \"\"\"\n",
    "        \n",
    "        # Initialize the costs\n",
    "        self.costs_ = []\n",
    "        \n",
    "        # Initialize the weights for each feature (and the dummy feature, x0)\n",
    "        self.w_ = np.zeros(1 + X.shape[1])\n",
    "\n",
    "        # For each iteration\n",
    "        for _ in range(self.n_iter):\n",
    "            # Initialize the update (of the weight) for each feature (and the dummy feature, x0)\n",
    "            delta_w = np.zeros(1 + X.shape[1])\n",
    "            \n",
    "            # Initialize the olss\n",
    "            olss = []\n",
    "\n",
    "            # For each sample\n",
    "            for i in range(X.shape[0]): \n",
    "                # Get the net_input\n",
    "                # Implement me\n",
    "                y_hat = \n",
    "\n",
    "                # Get the error\n",
    "                # Implement me\n",
    "                error = \n",
    "                \n",
    "                # Update the olss\n",
    "                olss.append(error ** 2)\n",
    "\n",
    "                # Get the update (of the weight) for each feature\n",
    "                # Implement me\n",
    "                for j in range(1, X.shape[1] + 1):\n",
    "                    delta_w[j] += \n",
    "\n",
    "                # Get the update (of the weight) for the dummy feature, x0\n",
    "                # Implement me\n",
    "                delta_w[0] += \n",
    "\n",
    "            # Update the weight for each feature (and the dummy feature, x0)\n",
    "            # Implement me\n",
    "            self.w_ += \n",
    "            \n",
    "            # Update the costs\n",
    "            self.costs_.append(sum(olss) / 2)\n",
    "            \n",
    "    def net_input(self, X, i):\n",
    "        \"\"\"\n",
    "        Get the net input\n",
    "        \n",
    "        Parameters\n",
    "        ----------\n",
    "        X : the feature vector\n",
    "        i : the ith sample\n",
    "        \n",
    "        Returns\n",
    "        ----------\n",
    "        The net input\n",
    "       \n",
    "        \"\"\"\n",
    "        \n",
    "        # Initialize the weighted sum (i.e., the net input)\n",
    "        weighted_sum = self.w_[0]\n",
    "        \n",
    "        # For each feature\n",
    "        for j in range(1, X.shape[1] + 1):\n",
    "            # Implement me\n",
    "            weighted_sum += \n",
    "\n",
    "        return weighted_sum\n",
    "\n",
    "    def predict(self, X):\n",
    "        \"\"\"\n",
    "        The predict function\n",
    "        \n",
    "        Parameters\n",
    "        ----------\n",
    "        X : the feature vector\n",
    "        \n",
    "        Returns\n",
    "        ----------\n",
    "        The predicted value of the target\n",
    "        \"\"\"\n",
    "        \n",
    "        # The predicted value\n",
    "        y_pred = []\n",
    "        \n",
    "        # For each sample\n",
    "        for i in range(X.shape[0]):\n",
    "            # Get the net_input\n",
    "            # Implement me\n",
    "            y_hat = \n",
    "            \n",
    "            # Update y_pred\n",
    "            y_pred.append(y_hat)\n",
    "    \n",
    "        return y_pred"
   ]
  },
  {
   "cell_type": "markdown",
   "metadata": {},
   "source": [
    "### Load the Housing dataset"
   ]
  },
  {
   "cell_type": "code",
   "execution_count": 2,
   "metadata": {
    "collapsed": true
   },
   "outputs": [],
   "source": [
    "import pandas as pd\n",
    "\n",
    "df = pd.read_csv('https://raw.githubusercontent.com/rasbt/'\n",
    "                 'python-machine-learning-book-2nd-edition'\n",
    "                 '/master/code/ch10/housing.data.txt',\n",
    "                 header=None,\n",
    "                 sep='\\s+')\n",
    "\n",
    "df.columns = ['CRIM', 'ZN', 'INDUS', 'CHAS', \n",
    "              'NOX', 'RM', 'AGE', 'DIS', 'RAD', \n",
    "              'TAX', 'PTRATIO', 'B', 'LSTAT', 'MEDV']"
   ]
  },
  {
   "cell_type": "markdown",
   "metadata": {},
   "source": [
    "### Get the feature and target vector"
   ]
  },
  {
   "cell_type": "code",
   "execution_count": 3,
   "metadata": {
    "collapsed": true,
    "scrolled": false
   },
   "outputs": [],
   "source": [
    "# Get the feature and target vector\n",
    "X = df.iloc[:, :-1].values\n",
    "y = df['MEDV'].values"
   ]
  },
  {
   "cell_type": "markdown",
   "metadata": {},
   "source": [
    "### Divide the data into training and testing"
   ]
  },
  {
   "cell_type": "code",
   "execution_count": 4,
   "metadata": {
    "collapsed": true
   },
   "outputs": [],
   "source": [
    "from sklearn.model_selection import train_test_split\n",
    "\n",
    "# Randomly choose 30% of the data for testing (using random_state = 0)\n",
    "X_train, X_test, y_train, y_test = train_test_split(X, y, test_size=0.3, random_state=0)"
   ]
  },
  {
   "cell_type": "markdown",
   "metadata": {},
   "source": [
    "### Standardize the data"
   ]
  },
  {
   "cell_type": "code",
   "execution_count": 5,
   "metadata": {
    "collapsed": true
   },
   "outputs": [],
   "source": [
    "from sklearn.preprocessing import StandardScaler\n",
    "\n",
    "std_scaler = StandardScaler()\n",
    "X_train_std = std_scaler.fit_transform(X_train)\n",
    "X_test_std = std_scaler.transform(X_test)\n",
    "y_train_std = std_scaler.fit_transform(y_train.reshape(-1, 1)).reshape(-1)\n",
    "y_test_std = std_scaler.transform(y_test.reshape(-1, 1)).reshape(-1)"
   ]
  },
  {
   "cell_type": "markdown",
   "metadata": {},
   "source": [
    "### Train and test the model"
   ]
  },
  {
   "cell_type": "code",
   "execution_count": 6,
   "metadata": {
    "collapsed": true
   },
   "outputs": [],
   "source": [
    "my_lr = MyLinearRegression()\n",
    "\n",
    "# Fit the model\n",
    "my_lr.fit(X_train_std, y_train_std)\n",
    "\n",
    "# Predict the value\n",
    "y_pred = my_lr.predict(X_test_std)"
   ]
  },
  {
   "cell_type": "markdown",
   "metadata": {},
   "source": [
    "### Draw the residual plot"
   ]
  },
  {
   "cell_type": "code",
   "execution_count": 7,
   "metadata": {},
   "outputs": [
    {
     "data": {
      "image/png": "[encoded data removed]",
      "text/plain": [
       "<matplotlib.figure.Figure at 0x11597c390>"
      ]
     },
     "metadata": {},
     "output_type": "display_data"
    }
   ],
   "source": [
    "import matplotlib.pyplot as plt\n",
    "\n",
    "%matplotlib inline \n",
    "# Draw the scatter plot of y_test_std and the residual\n",
    "plt.scatter(y_pred, y_test_std - y_pred, c='blue', marker='s')\n",
    "\n",
    "# Draw the horizontal line\n",
    "plt.hlines(y=0, xmin=y_test_std.min() - 0.5, xmax=y_test_std.max() + 0.5, color='black', lw=2)\n",
    "\n",
    "# Set the limit of x-axis\n",
    "plt.xlim([y_test_std.min() - 0.5, y_test_std.max() + 0.5])\n",
    "\n",
    "# Set the label for x-axis and y-axis\n",
    "plt.xlabel('Predicted values')\n",
    "plt.ylabel('Residuals')\n",
    "\n",
    "plt.tight_layout()\n",
    "plt.show()"
   ]
  },
  {
   "cell_type": "markdown",
   "metadata": {},
   "source": [
    "### Draw the costs"
   ]
  },
  {
   "cell_type": "code",
   "execution_count": 8,
   "metadata": {},
   "outputs": [
    {
     "data": {
      "image/png": "[encoded data removed]",
      "text/plain": [
       "<matplotlib.figure.Figure at 0x1136a4fd0>"
      ]
     },
     "metadata": {},
     "output_type": "display_data"
    }
   ],
   "source": [
    "%matplotlib inline \n",
    "plt.plot(range(1, my_lr.n_iter+1), my_lr.costs_)\n",
    "plt.ylabel('SSE')\n",
    "plt.xlabel('Epoch')\n",
    "\n",
    "plt.tight_layout()\n",
    "plt.show()"
   ]
  },
  {
   "cell_type": "code",
   "execution_count": null,
   "metadata": {
    "collapsed": true
   },
   "outputs": [],
   "source": []
  }
 ],
 "metadata": {
  "kernelspec": {
   "display_name": "Python 3",
   "language": "python",
   "name": "python3"
  },
  "language_info": {
   "codemirror_mode": {
    "name": "ipython",
    "version": 3
   },
   "file_extension": ".py",
   "mimetype": "text/x-python",
   "name": "python",
   "nbconvert_exporter": "python",
   "pygments_lexer": "ipython3",
   "version": "3.6.3"
  }
 },
 "nbformat": 4,
 "nbformat_minor": 2
}
