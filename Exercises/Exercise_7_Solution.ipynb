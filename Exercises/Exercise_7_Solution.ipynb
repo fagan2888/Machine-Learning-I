{
 "cells": [
  {
   "cell_type": "markdown",
   "metadata": {
    "collapsed": true
   },
   "source": [
    "<h1 align=\"center\"> \n",
    "DATS 6202, Fall 2018, Exercise_7\n",
    "</h1>\n",
    "\n",
    "<h4 align=\"center\"> \n",
    "Yuxiao Huang ([yuxiaohuang@gwu.edu](mailto:yuxiaohuang@gwu.edu))\n",
    "</h4>"
   ]
  },
  {
   "cell_type": "markdown",
   "metadata": {
    "collapsed": true
   },
   "source": [
    "## Note\n",
    "- Complete the missing parts indicated by # Implement me\n",
    "- We expect you to follow a reasonable programming style. While we do not mandate a specific style, we require that your code to be neat, clear, **documented/commented** and above all consistent. **Marks will be deducted if these are not followed.**"
   ]
  },
  {
   "cell_type": "markdown",
   "metadata": {},
   "source": [
    "## Objective\n",
    "Students are expected to understand:\n",
    "- how to use pipeline to sequentially apply a list of transforms and a final estimator\n",
    "- how to use stratifiedkfold for cross validation\n",
    "- how to use cross_val_score to wrap stratifiedkfold "
   ]
  },
  {
   "cell_type": "markdown",
   "metadata": {},
   "source": [
    "## Overview\n",
    "The only difference between this exercise and exercise 6 is as follows:\n",
    "- in exercise 6, we divided the data into training and testing using one split\n",
    "- here, we divide the data using cross validation "
   ]
  },
  {
   "cell_type": "markdown",
   "metadata": {},
   "source": [
    "## Load the Hepatitis Data"
   ]
  },
  {
   "cell_type": "code",
   "execution_count": 2,
   "metadata": {
    "scrolled": true
   },
   "outputs": [
    {
     "data": {
      "text/html": [
       "<div>\n",
       "<style scoped>\n",
       "    .dataframe tbody tr th:only-of-type {\n",
       "        vertical-align: middle;\n",
       "    }\n",
       "\n",
       "    .dataframe tbody tr th {\n",
       "        vertical-align: top;\n",
       "    }\n",
       "\n",
       "    .dataframe thead th {\n",
       "        text-align: right;\n",
       "    }\n",
       "</style>\n",
       "<table border=\"1\" class=\"dataframe\">\n",
       "  <thead>\n",
       "    <tr style=\"text-align: right;\">\n",
       "      <th></th>\n",
       "      <th>Target</th>\n",
       "      <th>AGE</th>\n",
       "      <th>SEX</th>\n",
       "      <th>STEROID</th>\n",
       "      <th>ANTIVIRALS</th>\n",
       "      <th>FATIGUE</th>\n",
       "      <th>MALAISE</th>\n",
       "      <th>ANOREXIA</th>\n",
       "      <th>LIVER BIG</th>\n",
       "      <th>LIVER FIRM</th>\n",
       "      <th>SPLEEN PALPABLE</th>\n",
       "      <th>SPIDERS</th>\n",
       "      <th>ASCITES</th>\n",
       "      <th>VARICES</th>\n",
       "      <th>BILIRUBIN</th>\n",
       "      <th>ALK PHOSPHATE</th>\n",
       "      <th>SGOT</th>\n",
       "      <th>ALBUMIN</th>\n",
       "      <th>PROTIME</th>\n",
       "      <th>HISTOLOGY</th>\n",
       "    </tr>\n",
       "  </thead>\n",
       "  <tbody>\n",
       "    <tr>\n",
       "      <th>0</th>\n",
       "      <td>2</td>\n",
       "      <td>30</td>\n",
       "      <td>2</td>\n",
       "      <td>1</td>\n",
       "      <td>2</td>\n",
       "      <td>2</td>\n",
       "      <td>2</td>\n",
       "      <td>2</td>\n",
       "      <td>1</td>\n",
       "      <td>2</td>\n",
       "      <td>2</td>\n",
       "      <td>2</td>\n",
       "      <td>2</td>\n",
       "      <td>2</td>\n",
       "      <td>1.00</td>\n",
       "      <td>85</td>\n",
       "      <td>18</td>\n",
       "      <td>4.0</td>\n",
       "      <td>?</td>\n",
       "      <td>1</td>\n",
       "    </tr>\n",
       "    <tr>\n",
       "      <th>1</th>\n",
       "      <td>2</td>\n",
       "      <td>50</td>\n",
       "      <td>1</td>\n",
       "      <td>1</td>\n",
       "      <td>2</td>\n",
       "      <td>1</td>\n",
       "      <td>2</td>\n",
       "      <td>2</td>\n",
       "      <td>1</td>\n",
       "      <td>2</td>\n",
       "      <td>2</td>\n",
       "      <td>2</td>\n",
       "      <td>2</td>\n",
       "      <td>2</td>\n",
       "      <td>0.90</td>\n",
       "      <td>135</td>\n",
       "      <td>42</td>\n",
       "      <td>3.5</td>\n",
       "      <td>?</td>\n",
       "      <td>1</td>\n",
       "    </tr>\n",
       "    <tr>\n",
       "      <th>2</th>\n",
       "      <td>2</td>\n",
       "      <td>78</td>\n",
       "      <td>1</td>\n",
       "      <td>2</td>\n",
       "      <td>2</td>\n",
       "      <td>1</td>\n",
       "      <td>2</td>\n",
       "      <td>2</td>\n",
       "      <td>2</td>\n",
       "      <td>2</td>\n",
       "      <td>2</td>\n",
       "      <td>2</td>\n",
       "      <td>2</td>\n",
       "      <td>2</td>\n",
       "      <td>0.70</td>\n",
       "      <td>96</td>\n",
       "      <td>32</td>\n",
       "      <td>4.0</td>\n",
       "      <td>?</td>\n",
       "      <td>1</td>\n",
       "    </tr>\n",
       "    <tr>\n",
       "      <th>3</th>\n",
       "      <td>2</td>\n",
       "      <td>31</td>\n",
       "      <td>1</td>\n",
       "      <td>?</td>\n",
       "      <td>1</td>\n",
       "      <td>2</td>\n",
       "      <td>2</td>\n",
       "      <td>2</td>\n",
       "      <td>2</td>\n",
       "      <td>2</td>\n",
       "      <td>2</td>\n",
       "      <td>2</td>\n",
       "      <td>2</td>\n",
       "      <td>2</td>\n",
       "      <td>0.70</td>\n",
       "      <td>46</td>\n",
       "      <td>52</td>\n",
       "      <td>4.0</td>\n",
       "      <td>80</td>\n",
       "      <td>1</td>\n",
       "    </tr>\n",
       "    <tr>\n",
       "      <th>4</th>\n",
       "      <td>2</td>\n",
       "      <td>34</td>\n",
       "      <td>1</td>\n",
       "      <td>2</td>\n",
       "      <td>2</td>\n",
       "      <td>2</td>\n",
       "      <td>2</td>\n",
       "      <td>2</td>\n",
       "      <td>2</td>\n",
       "      <td>2</td>\n",
       "      <td>2</td>\n",
       "      <td>2</td>\n",
       "      <td>2</td>\n",
       "      <td>2</td>\n",
       "      <td>1.00</td>\n",
       "      <td>?</td>\n",
       "      <td>200</td>\n",
       "      <td>4.0</td>\n",
       "      <td>?</td>\n",
       "      <td>1</td>\n",
       "    </tr>\n",
       "  </tbody>\n",
       "</table>\n",
       "</div>"
      ],
      "text/plain": [
       "   Target  AGE  SEX STEROID  ANTIVIRALS FATIGUE MALAISE ANOREXIA LIVER BIG  \\\n",
       "0       2   30    2       1           2       2       2        2         1   \n",
       "1       2   50    1       1           2       1       2        2         1   \n",
       "2       2   78    1       2           2       1       2        2         2   \n",
       "3       2   31    1       ?           1       2       2        2         2   \n",
       "4       2   34    1       2           2       2       2        2         2   \n",
       "\n",
       "  LIVER FIRM SPLEEN PALPABLE SPIDERS ASCITES VARICES BILIRUBIN ALK PHOSPHATE  \\\n",
       "0          2               2       2       2       2      1.00            85   \n",
       "1          2               2       2       2       2      0.90           135   \n",
       "2          2               2       2       2       2      0.70            96   \n",
       "3          2               2       2       2       2      0.70            46   \n",
       "4          2               2       2       2       2      1.00             ?   \n",
       "\n",
       "  SGOT ALBUMIN PROTIME  HISTOLOGY  \n",
       "0   18     4.0       ?          1  \n",
       "1   42     3.5       ?          1  \n",
       "2   32     4.0       ?          1  \n",
       "3   52     4.0      80          1  \n",
       "4  200     4.0       ?          1  "
      ]
     },
     "execution_count": 2,
     "metadata": {},
     "output_type": "execute_result"
    }
   ],
   "source": [
    "import warnings\n",
    "warnings.filterwarnings('ignore')\n",
    "    \n",
    "import pandas as pd\n",
    "\n",
    "# Load the data\n",
    "df = pd.read_csv('https://archive.ics.uci.edu/ml/machine-learning-databases/hepatitis/hepatitis.data', header=None)\n",
    "\n",
    "# Specify the name of the columns\n",
    "df.columns = ['Target', 'AGE', 'SEX', 'STEROID', 'ANTIVIRALS', 'FATIGUE', 'MALAISE', 'ANOREXIA', 'LIVER BIG', 'LIVER FIRM', 'SPLEEN PALPABLE', 'SPIDERS', 'ASCITES', 'VARICES', 'BILIRUBIN', 'ALK PHOSPHATE', 'SGOT', 'ALBUMIN', 'PROTIME', 'HISTOLOGY']\n",
    "\n",
    "# Show the header and the first five rows\n",
    "df.head()"
   ]
  },
  {
   "cell_type": "markdown",
   "metadata": {},
   "source": [
    "## Remove rows with missing values"
   ]
  },
  {
   "cell_type": "code",
   "execution_count": 3,
   "metadata": {},
   "outputs": [
    {
     "name": "stdout",
     "output_type": "stream",
     "text": [
      "Number of rows before removing rows with missing values: 155\n",
      "Number of rows after removing rows with missing values: 80\n"
     ]
    }
   ],
   "source": [
    "import numpy as np\n",
    "\n",
    "print('Number of rows before removing rows with missing values: ' + str(df.shape[0]))\n",
    "\n",
    "# Replace ? with np.NaN\n",
    "df = df.replace('?', np.NaN)\n",
    "\n",
    "# Remove rows with np.NaN\n",
    "df = df.dropna(how='any')\n",
    "\n",
    "print('Number of rows after removing rows with missing values: ' + str(df.shape[0]))"
   ]
  },
  {
   "cell_type": "markdown",
   "metadata": {},
   "source": [
    "## Get the feature and target vector"
   ]
  },
  {
   "cell_type": "code",
   "execution_count": 4,
   "metadata": {
    "collapsed": true
   },
   "outputs": [],
   "source": [
    "# Specify the name of the target\n",
    "target = 'Target'\n",
    "\n",
    "# Get the target vector\n",
    "y = df[target].values\n",
    "\n",
    "# Specify the name of the features\n",
    "features = list(df.drop(target, axis=1).columns)\n",
    "\n",
    "# Get the feature vector\n",
    "X = df[features].values"
   ]
  },
  {
   "cell_type": "markdown",
   "metadata": {},
   "source": [
    "## Divide the data into training and testing\n",
    "This part is not necessary for this exercise (since cross validation is used)"
   ]
  },
  {
   "cell_type": "code",
   "execution_count": 5,
   "metadata": {
    "collapsed": true
   },
   "outputs": [],
   "source": [
    "# from sklearn.model_selection import train_test_split\n",
    "\n",
    "# # Randomly choose 30% of the data for testing (set randome_state as 0 and stratify as y)\n",
    "# X_train, X_test, y_train, y_test = train_test_split(X, y, test_size=0.3, random_state=0, stratify=y)"
   ]
  },
  {
   "cell_type": "markdown",
   "metadata": {},
   "source": [
    "## Fit svm using different settings for the hyperparameters\n",
    "Here:\n",
    "- we first use StratifiedKFold to get the indices of training and testing data for each fold\n",
    "- we then train and test the (pipeline) estimator on the training and testing data\n",
    "\n",
    "The detailed steps help us to understand what StratifiedKFold returns"
   ]
  },
  {
   "cell_type": "code",
   "execution_count": 6,
   "metadata": {},
   "outputs": [
    {
     "name": "stdout",
     "output_type": "stream",
     "text": [
      "The list of [score, setting] is:\n",
      "[0.87, [1, 'rbf']]\n",
      "[0.84, [1, 'linear']]\n",
      "[0.82, [0.1, 'sigmoid']]\n",
      "[0.81, [0.01, 'linear']]\n",
      "[0.8, [0.01, 'sigmoid']]\n",
      "[0.79, [0.01, 'rbf']]\n",
      "[0.79, [0.1, 'linear']]\n",
      "[0.77, [1, 'sigmoid']]\n",
      "[0.73, [0.1, 'rbf']]\n",
      "\n",
      "The best setting is:\n",
      "C: 1\n",
      "kernel: rbf\n"
     ]
    }
   ],
   "source": [
    "from sklearn.pipeline import Pipeline\n",
    "from sklearn.preprocessing import StandardScaler\n",
    "from sklearn.svm import SVC\n",
    "from sklearn.model_selection import StratifiedKFold\n",
    "import numpy as np\n",
    "\n",
    "# The list of value for hyperparameter C (penalty parameter)\n",
    "Cs = [0.01, 0.1, 1]\n",
    "\n",
    "# The list of choice for hyperparameter kernel\n",
    "kernels = ['linear', 'rbf', 'sigmoid']\n",
    "\n",
    "# The list of [score, setting], where score is the score of the classifier and setting a pair of (C, kernel)\n",
    "score_settings = []\n",
    "\n",
    "# For each C\n",
    "for C in Cs:\n",
    "    # For each kernel\n",
    "    for kernel in kernels:\n",
    "        # Declare the classifier with hyperparameter C, kernel, class_weight, and random_state\n",
    "        clf = SVC(C=C, kernel=kernel, class_weight='balanced', random_state=0)\n",
    "        \n",
    "        # The pipeline, with StandardScaler and clf defined above\n",
    "        pipe_clf = Pipeline([('StandardScaler', StandardScaler()), ('clf', clf)])\n",
    "        \n",
    "        # StratifiedKFold, with n_splits=10, shuffle=True, and random_state=0\n",
    "        skf = StratifiedKFold(n_splits=10, shuffle=True, random_state=0)\n",
    "        \n",
    "        # The scores across the 10-folds cross validation\n",
    "        scores = []\n",
    "        \n",
    "        # For the training and testing indices with respect to each fold\n",
    "        for train_index, test_index in skf.split(X, y):\n",
    "            # Get X_train and X_test\n",
    "            X_train, X_test = X[train_index], X[test_index]\n",
    "            # Get y_train and y_test\n",
    "            y_train, y_test = y[train_index], y[test_index]\n",
    "\n",
    "            # Fit the pipeline\n",
    "            pipe_clf.fit(X_train, y_train)\n",
    "\n",
    "            # Get the score \n",
    "            score = pipe_clf.score(X_test, y_test)\n",
    "            \n",
    "            # Update scores\n",
    "            scores.append(score)\n",
    "        \n",
    "        # Get the setting, which is a pair of (C, kernel)\n",
    "        setting = [C, kernel]\n",
    "        \n",
    "        # Get the average score across the 10-folds cross validation (rounding to two decimal places)\n",
    "        mean_score = round(np.mean(scores), 2)\n",
    "\n",
    "        # Append [mean_score, setting] to score_settings\n",
    "        score_settings.append([mean_score, setting])\n",
    "        \n",
    "# Sort score_settings in descending order of score\n",
    "score_settings = sorted(score_settings, key=lambda x: x[0], reverse=True)\n",
    "\n",
    "# Print score_settings\n",
    "print('The list of [score, setting] is:')\n",
    "for score_setting in score_settings:\n",
    "    print(score_setting)\n",
    "print()\n",
    "\n",
    "# Print the best setting\n",
    "print('The best setting is:')\n",
    "print('C: ' + str(score_settings[0][1][0]))\n",
    "print('kernel: ' + score_settings[0][1][1])"
   ]
  },
  {
   "cell_type": "markdown",
   "metadata": {},
   "source": [
    "## Discussion\n",
    "\n",
    "The above results are not the same as those in exercise 6. In this case, the default settings for the two hyperparameters, C and kernel, are indeed the best ones. This is largely due to the fact that the scores in exercise 6 were obtained from the training set divided (from the input data) by one split. Thus the score from the training set may not be reliable. However, the score in this exercise is the average one obtained by 10-fold cross validation, and could be more reliable."
   ]
  },
  {
   "cell_type": "markdown",
   "metadata": {},
   "source": [
    "## Fit svm using different settings for the hyperparameters (again)\n",
    "Here we use cross_val_score that\n",
    "- wraps StratifiedKFold\n",
    "- reports the average score obtained by 10-folds cross validation\n",
    "\n",
    "This shows us a simple way to use cross validation in practice."
   ]
  },
  {
   "cell_type": "code",
   "execution_count": 7,
   "metadata": {},
   "outputs": [
    {
     "name": "stdout",
     "output_type": "stream",
     "text": [
      "The list of [score, setting] is:\n",
      "[0.87, [1, 'rbf']]\n",
      "[0.84, [1, 'linear']]\n",
      "[0.83, [10, 'rbf']]\n",
      "[0.82, [0.1, 'sigmoid']]\n",
      "[0.82, [10, 'linear']]\n",
      "[0.81, [0.01, 'linear']]\n",
      "[0.8, [0.01, 'sigmoid']]\n",
      "[0.79, [0.01, 'rbf']]\n",
      "[0.79, [0.1, 'linear']]\n",
      "[0.77, [1, 'sigmoid']]\n",
      "[0.77, [10, 'sigmoid']]\n",
      "[0.73, [0.1, 'rbf']]\n",
      "\n",
      "The best setting is:\n",
      "C: 1\n",
      "kernel: rbf\n"
     ]
    }
   ],
   "source": [
    "from sklearn.pipeline import Pipeline\n",
    "from sklearn.preprocessing import StandardScaler\n",
    "from sklearn.svm import SVC\n",
    "from sklearn.model_selection import StratifiedKFold\n",
    "from sklearn.model_selection import cross_val_score\n",
    "\n",
    "# The list of value for hyperparameter C (penalty parameter)\n",
    "Cs = [0.01, 0.1, 1, 10]\n",
    "\n",
    "# The list of choice for hyperparameter kernel\n",
    "kernels = ['linear', 'rbf', 'sigmoid']\n",
    "\n",
    "# The list of [score, setting], where score is the score of the classifier and setting a pair of (C, kernel)\n",
    "score_settings = []\n",
    "\n",
    "# For each C\n",
    "for C in Cs:\n",
    "    # For each kernel\n",
    "    for kernel in kernels:\n",
    "        # Declare the classifier with hyperparameter C, kernel, class_weight, and random_state\n",
    "        clf = SVC(C=C, kernel=kernel, class_weight='balanced', random_state=0)\n",
    "        \n",
    "        # The pipeline, with StandardScaler and clf defined above\n",
    "        pipe_clf = Pipeline([('StandardScaler', StandardScaler()), ('clf', clf)])\n",
    "        \n",
    "        # Get the score with respect to each fold (using cross_val_score)\n",
    "        scores = cross_val_score(estimator=pipe_clf,\n",
    "                                 X=X,\n",
    "                                 y=y,\n",
    "                                 scoring='accuracy',\n",
    "                                 cv=StratifiedKFold(n_splits=10,\n",
    "                                                    shuffle=True,\n",
    "                                                    random_state=0),\n",
    "                                 n_jobs=-1)\n",
    "        \n",
    "        # Get the setting, which is a pair of (C, kernel)\n",
    "        setting = [C, kernel]\n",
    "        \n",
    "        # Get the average score (rounding to two decimal places)\n",
    "        mean_score = round(np.mean(scores), 2)\n",
    "\n",
    "        # Append [mean_score, setting] to score_settings\n",
    "        score_settings.append([mean_score, setting])\n",
    "        \n",
    "# Sort score_settings in descending order of score\n",
    "score_settings = sorted(score_settings, key=lambda x: x[0], reverse=True)\n",
    "\n",
    "# Print score_settings\n",
    "print('The list of [score, setting] is:')\n",
    "for score_setting in score_settings:\n",
    "    print(score_setting)\n",
    "print()\n",
    "\n",
    "# Print the best setting\n",
    "print('The best setting is:')\n",
    "print('C: ' + str(score_settings[0][1][0]))\n",
    "print('kernel: ' + score_settings[0][1][1])"
   ]
  },
  {
   "cell_type": "markdown",
   "metadata": {},
   "source": [
    "## Discussion\n",
    "\n",
    "The above results are exactly the same as before. While using StratifiedKFold to get the indices of training and testing data helps us to understand what happens under the hood, cross_val_score (that wraps StratifiedKFold) is much more convenient and thus usually used in practice."
   ]
  },
  {
   "cell_type": "code",
   "execution_count": null,
   "metadata": {
    "collapsed": true
   },
   "outputs": [],
   "source": []
  }
 ],
 "metadata": {
  "kernelspec": {
   "display_name": "Python 3",
   "language": "python",
   "name": "python3"
  },
  "language_info": {
   "codemirror_mode": {
    "name": "ipython",
    "version": 3
   },
   "file_extension": ".py",
   "mimetype": "text/x-python",
   "name": "python",
   "nbconvert_exporter": "python",
   "pygments_lexer": "ipython3",
   "version": "3.6.3"
  }
 },
 "nbformat": 4,
 "nbformat_minor": 2
}
